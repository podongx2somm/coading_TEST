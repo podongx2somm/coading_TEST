{
  "nbformat": 4,
  "nbformat_minor": 0,
  "metadata": {
    "colab": {
      "provenance": []
    },
    "kernelspec": {
      "name": "python3",
      "display_name": "Python 3"
    },
    "language_info": {
      "name": "python"
    }
  },
  "cells": [
    {
      "cell_type": "markdown",
      "source": [
        "# 정수 N개의 합 \n",
        "\n",
        "\n",
        "\n",
        "*   문제 설명 : 정수 N개가 주어졌을때, N개의 합을 구하는 함수를 작성하시오.\n",
        "*   풀이 시간 총 1 mins\n",
        "\n"
      ],
      "metadata": {
        "id": "csGV7LCBxFug"
      }
    },
    {
      "cell_type": "code",
      "execution_count": 1,
      "metadata": {
        "id": "KotrFEGOw3dG"
      },
      "outputs": [],
      "source": [
        "def solve(a):\n",
        "  ans = 0\n",
        "  for num in a:\n",
        "    ans += num\n",
        "  return ans"
      ]
    },
    {
      "cell_type": "code",
      "source": [
        "def solve(a):\n",
        "  return sum(a)"
      ],
      "metadata": {
        "id": "BTwHe9xPxm2D"
      },
      "execution_count": 2,
      "outputs": []
    },
    {
      "cell_type": "markdown",
      "source": [
        "# 셀프 넘버 \n",
        "\n",
        "\n",
        "\n",
        "*   문제 설명 : 양의 정수 n에 대해서 d(n)을 n과 n의 각 자리수를 더하는 함수라고 정의하자. 예를 들어, d(75) = 75 + 7 + 5 = 87이다. \n",
        "양의 정수 n이 주어졌을 때, 이 수를 시작해서 n,d(n), d(d(n)), d(d(d(n))), 과 같은 무한 수열을 만들 수 있다. n을 d(n)의 생성자라고 한다. 위의 수열에서 33은 39의 생성자이고, 39는 51의 생성자, 51은 57의 생성자이다. 생성자가 한 개보다 많은 경우도 있다. 예를들어, 101은 생성자가 2개 (91과 100)이 있다. 생성자가 없는 숫자를 셀프넘버라고 한다. 100보다 작은 셀프넘버는 총 13개가 있다. 1, 3, 5, 7, 9, 20, 31, 42, 53, 64, 75, 86, 97 \n",
        "\n",
        "10000보다 작거나 같은 셀프 넘버를 한 줄에 하나씩 출력하는 프로그램을 작성하시오. \n",
        "*   풀이 시간  총 40 mins\n",
        "\n"
      ],
      "metadata": {
        "id": "vipkv0X2xySV"
      }
    },
    {
      "cell_type": "code",
      "source": [
        "def dn(num):\n",
        "  answer = num \n",
        "  if num < 10:\n",
        "    return answer + num\n",
        "  elif 10 <= num < 100:\n",
        "    num1 = num % 10\n",
        "    answer += num1 + ((num-num1) // 10) \n",
        "  elif 100 <= num < 1000:\n",
        "    num1 = num // 100\n",
        "    num2 = num % 100\n",
        "    answer +=  num1 + ((num2) % 10) + ((num2)//10)\n",
        "  else:\n",
        "    num1 = num // 1000\n",
        "    num2 = num % 1000 \n",
        "    num3 = num2 % 100\n",
        "    answer += num1 + (num2 // 100) + (num3 // 10) + (num3 % 10)\n",
        "  return answer\n"
      ],
      "metadata": {
        "id": "fQ_xmE5Zzdg5"
      },
      "execution_count": 74,
      "outputs": []
    },
    {
      "cell_type": "code",
      "source": [
        "def dn(num):\n",
        "  n = num + sum(map(int, str(num)))\n",
        "  return n \n",
        "\n",
        "nonSelfNum = set()\n",
        "for i in range(1, 10001):\n",
        "  nonSelfNum.add(dn(i))\n",
        "\n",
        "# for j in range(1, 10001):\n",
        "#   if j not in nonSelfNum:\n",
        "    # print(j)"
      ],
      "metadata": {
        "id": "qeFib7MH69B8"
      },
      "execution_count": 84,
      "outputs": []
    },
    {
      "cell_type": "markdown",
      "source": [
        "# 한수 \n",
        "\n",
        "\n",
        "\n",
        "*   문제 설명 : 어떤 양의 정수 x의 각 자리가 등차수열을 이룬다면, 그 수를 한수라고 한다. 등차수열은 연속된 두 개의 수의 차이가 일정한 수열을 말한다. n이 주어졌을 때, 1보다 크거나 같고, n보다 작거나 같은 한수의 개수를 출력하는 프로그램을 작성하시오. \n",
        "*   풀이 시간 총 20 mins \n",
        "\n"
      ],
      "metadata": {
        "id": "YDKqmTn-70z7"
      }
    },
    {
      "cell_type": "code",
      "source": [
        "def hansu(N):\n",
        "    cnt = 0 \n",
        "    for num in range(1,N+1):\n",
        "      if num < 100:\n",
        "        cnt += 1 \n",
        "      else:\n",
        "        diff = int(str(num)[1]) - int(str(num)[0])\n",
        "        if diff == int(str(num)[2]) - int(str(num)[1]):\n",
        "              cnt += 1 \n",
        "    return cnt \n",
        "\n",
        "print(hansu(int(input())))\n"
      ],
      "metadata": {
        "colab": {
          "base_uri": "https://localhost:8080/"
        },
        "id": "X6T2tfbLxqMq",
        "outputId": "90a0a7cd-3b89-4bf1-ac51-8079338d2595"
      },
      "execution_count": 107,
      "outputs": [
        {
          "output_type": "stream",
          "name": "stdout",
          "text": [
            "101\n",
            "99\n"
          ]
        }
      ]
    },
    {
      "cell_type": "code",
      "source": [],
      "metadata": {
        "id": "VAqc-zec8sfK"
      },
      "execution_count": null,
      "outputs": []
    }
  ]
}