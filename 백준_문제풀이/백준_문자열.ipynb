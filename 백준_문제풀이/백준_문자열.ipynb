{
  "nbformat": 4,
  "nbformat_minor": 0,
  "metadata": {
    "colab": {
      "provenance": []
    },
    "kernelspec": {
      "name": "python3",
      "display_name": "Python 3"
    },
    "language_info": {
      "name": "python"
    }
  },
  "cells": [
    {
      "cell_type": "markdown",
      "source": [
        "# 아스키 코드 \n",
        "\n",
        "\n",
        "\n",
        "*   문제 설명 : 알파벳 소문자, 대문자, 숫자 0-9 중 하나가 주어졌을 때, 주어진 글자의 아스키 코드 값을 출력하는 프로그램을 작성하시오. \n",
        "*   풀이 시간 총 5 mins\n",
        "\n"
      ],
      "metadata": {
        "id": "GjWUQu3wZ_o8"
      }
    },
    {
      "cell_type": "code",
      "execution_count": 5,
      "metadata": {
        "colab": {
          "base_uri": "https://localhost:8080/"
        },
        "id": "XHSf29JFZ8s-",
        "outputId": "35c76944-3cb9-4e5c-abfe-146b29385681"
      },
      "outputs": [
        {
          "name": "stdout",
          "output_type": "stream",
          "text": [
            "9\n"
          ]
        }
      ],
      "source": [
        "S = input()"
      ]
    },
    {
      "cell_type": "code",
      "source": [
        "if S in [num for num in range(9)]:\n",
        "  print(chr(S))\n",
        "else:\n",
        "  print(ord(S))"
      ],
      "metadata": {
        "colab": {
          "base_uri": "https://localhost:8080/"
        },
        "id": "shIQYFwoaZ4P",
        "outputId": "a9e1d689-7671-4ace-98b0-83a022fbfbcd"
      },
      "execution_count": 6,
      "outputs": [
        {
          "output_type": "stream",
          "name": "stdout",
          "text": [
            "57\n"
          ]
        }
      ]
    },
    {
      "cell_type": "markdown",
      "source": [
        "# 숫자의 합 \n",
        "\n",
        "\n",
        "\n",
        "*   문제 설명 : N개의 숫자가 공백 없이 쓰여있다. 이 숫자를 모두 합해서 출력하는 프로그램을 작성하시오. \n",
        "*   풀이시간 총 5 mins\n",
        "\n"
      ],
      "metadata": {
        "id": "uwYVUX3VbPUx"
      }
    },
    {
      "cell_type": "code",
      "source": [
        "N = int(input())\n",
        "S = input()\n",
        "sum = 0 \n",
        "for n in range(N):\n",
        "  sum += int(S[n])\n",
        "print(sum)"
      ],
      "metadata": {
        "colab": {
          "base_uri": "https://localhost:8080/"
        },
        "id": "dBanAN1fafa7",
        "outputId": "4a9a4a04-0241-4b2a-ca9d-e2c6297a186c"
      },
      "execution_count": 11,
      "outputs": [
        {
          "output_type": "stream",
          "name": "stdout",
          "text": [
            "5\n",
            "54321\n",
            "15\n"
          ]
        }
      ]
    },
    {
      "cell_type": "markdown",
      "source": [
        "# 알파벳 찾기 \n",
        "\n",
        "\n",
        "\n",
        "*   문제 설명 : 알파벳 소문자로만 이루어진 단어 S가 주어진다. 각각의 알파벳에 대해서, 단어에 포함되어 있는 경우에는 처음 등장하는 위치를, 포함되어 있지 않은 경우에는 -1을 출력하는 프로그램을 작성하시오.\n",
        "*   풀이 시간 총 10 mins\n",
        "\n"
      ],
      "metadata": {
        "id": "kEp1RbjGca2T"
      }
    },
    {
      "cell_type": "code",
      "source": [
        "word = input()\n",
        "w_dict = [chr(num) for num in range(97,123)]\n",
        "\n",
        "for idx,w in enumerate(w_dict):\n",
        "  if w in word:\n",
        "    w_dict[idx] = word.index(w)\n",
        "  else:\n",
        "    w_dict[idx] = -1\n",
        "w_dict\n"
      ],
      "metadata": {
        "colab": {
          "base_uri": "https://localhost:8080/"
        },
        "id": "EuwhStL7b4YM",
        "outputId": "36fb688b-e7a0-4742-b855-e091c750f8c6"
      },
      "execution_count": 16,
      "outputs": [
        {
          "name": "stdout",
          "output_type": "stream",
          "text": [
            "baekjoon\n"
          ]
        },
        {
          "output_type": "execute_result",
          "data": {
            "text/plain": [
              "[1,\n",
              " 0,\n",
              " -1,\n",
              " -1,\n",
              " 2,\n",
              " -1,\n",
              " -1,\n",
              " -1,\n",
              " -1,\n",
              " 4,\n",
              " 3,\n",
              " -1,\n",
              " -1,\n",
              " 7,\n",
              " 5,\n",
              " -1,\n",
              " -1,\n",
              " -1,\n",
              " -1,\n",
              " -1,\n",
              " -1,\n",
              " -1,\n",
              " -1,\n",
              " -1,\n",
              " -1,\n",
              " -1]"
            ]
          },
          "metadata": {},
          "execution_count": 16
        }
      ]
    },
    {
      "cell_type": "markdown",
      "source": [
        "# 문자열 반복 \n",
        "\n",
        "\n",
        "\n",
        "*   문제 설명 : 문자열 S를 입력받은 후에, 각 문자를 R번 반복해서 새 문자열 P를 만든 후 출력하는 프로그램을 작성하시오. 즉, 첫번째 문자를 R번 반복하고, 두 번째 문자를 R번 반복하는 식으로 P를 만들면 된다. S에는 QR CODE \"alphanumeric\"문자만 들어있다. \n",
        "*   풀이시간 총 5 mins\n",
        "\n"
      ],
      "metadata": {
        "id": "n5iWj_ohfidC"
      }
    },
    {
      "cell_type": "code",
      "source": [
        "N = int(input())\n",
        "\n",
        "for num in range(N):\n",
        "  s = input()\n",
        "  answer = ''\n",
        "  for word in s.split()[1]:\n",
        "    answer += word*(int(s.split()[0]))\n",
        "  print(answer)"
      ],
      "metadata": {
        "colab": {
          "base_uri": "https://localhost:8080/"
        },
        "id": "kxujO85kdTMB",
        "outputId": "2607daa4-1969-45a6-c069-56bcd87bc2fe"
      },
      "execution_count": 20,
      "outputs": [
        {
          "output_type": "stream",
          "name": "stdout",
          "text": [
            "2\n",
            "3 ABC\n",
            "AAABBBCCC\n",
            "5 /HTP\n",
            "/////HHHHHTTTTTPPPPP\n"
          ]
        }
      ]
    },
    {
      "cell_type": "markdown",
      "source": [
        "# 단어 공부 \n",
        "\n",
        "\n",
        "\n",
        "*   문제 설명 : 알파벳 대소문자로 된 단어가 주어지면, 이 단어에서 가장 많이 사용된 알파벳이 무엇인지 알아내는 프로그램을 작성하시오. 단, 대문자와 소문자를 구분하지 않는다. \n",
        "*   풀이 시간 총 15 mins\n",
        "\n"
      ],
      "metadata": {
        "id": "VizqBBM3hj37"
      }
    },
    {
      "cell_type": "code",
      "source": [
        "s = input()"
      ],
      "metadata": {
        "colab": {
          "base_uri": "https://localhost:8080/"
        },
        "id": "pS47iTcehODB",
        "outputId": "eaa4707d-bfbf-4915-e2b8-11ce14e4503d"
      },
      "execution_count": 21,
      "outputs": [
        {
          "name": "stdout",
          "output_type": "stream",
          "text": [
            "Mississipi\n"
          ]
        }
      ]
    },
    {
      "cell_type": "code",
      "source": [
        "new = {word.upper() : 0 for word in set(s)}\n",
        "new"
      ],
      "metadata": {
        "colab": {
          "base_uri": "https://localhost:8080/"
        },
        "id": "M1Zi_on3h6qw",
        "outputId": "b3548caf-97a2-4036-b401-410816536a5c"
      },
      "execution_count": 29,
      "outputs": [
        {
          "output_type": "execute_result",
          "data": {
            "text/plain": [
              "{'I': 0, 'S': 0, 'M': 0, 'P': 0}"
            ]
          },
          "metadata": {},
          "execution_count": 29
        }
      ]
    },
    {
      "cell_type": "code",
      "source": [
        "for word in s:\n",
        "  new[word.upper()] += 1\n",
        "new"
      ],
      "metadata": {
        "colab": {
          "base_uri": "https://localhost:8080/"
        },
        "id": "D38GIzCRiEWV",
        "outputId": "071bb70e-2eab-4488-af1a-2091beed2c71"
      },
      "execution_count": 34,
      "outputs": [
        {
          "output_type": "execute_result",
          "data": {
            "text/plain": [
              "{'I': 4, 'S': 4, 'M': 1, 'P': 1}"
            ]
          },
          "metadata": {},
          "execution_count": 34
        }
      ]
    },
    {
      "cell_type": "code",
      "source": [
        "new_d  = [k for k,v in new.items() if max(new.values()) == v]\n",
        "if len(new_d) > 1:\n",
        "  print(\"?\")\n",
        "else:\n",
        "  print(new_d[0])"
      ],
      "metadata": {
        "colab": {
          "base_uri": "https://localhost:8080/"
        },
        "id": "XY5Mi6ftistD",
        "outputId": "15d3bae5-c390-41f5-fa0e-dc9ed9e697af"
      },
      "execution_count": 41,
      "outputs": [
        {
          "output_type": "stream",
          "name": "stdout",
          "text": [
            "?\n"
          ]
        }
      ]
    },
    {
      "cell_type": "markdown",
      "source": [
        "# 단어의 개수 \n",
        "\n",
        "\n",
        "\n",
        "*   문제 설명 : 영어 대소문자와 공백으로 이루어진 문자열이 주어진다. 이 문자열에는 몇 개의 단어가 있을까? 이를 구하는 프로그램을 작성하시오. 단, 한 단어가 여러 번 등장하면 등장한 횟수만큼 모두 세어야 한다. \n",
        "*   풀이 시간 총 1 mins\n",
        "\n"
      ],
      "metadata": {
        "id": "iigUrHA6k2cB"
      }
    },
    {
      "cell_type": "code",
      "source": [
        "sentence = input()\n",
        "\n",
        "sent = sentence.split()\n",
        "print(len(sent))"
      ],
      "metadata": {
        "colab": {
          "base_uri": "https://localhost:8080/"
        },
        "id": "rYnBewz6k11m",
        "outputId": "56aca021-e806-4b0a-c4cf-59308724c2f5"
      },
      "execution_count": 44,
      "outputs": [
        {
          "output_type": "stream",
          "name": "stdout",
          "text": [
            "The last character is a blank \n",
            "6\n"
          ]
        }
      ]
    },
    {
      "cell_type": "markdown",
      "source": [
        "# 상수 \n",
        "\n",
        "\n",
        "\n",
        "*   문제 설명 : 상근이의 동생 상수는 수학을 정말 못한다. 상수는 숫자를 읽는데 문제가 있다. 이렇게 수학을 못하는 상수를 위해서 상근이는 수의 크기를 비교하는 문제를 내주었다. 상근이는 세 자리 수 두 개를 칠판에 써주었다. 그 다음에 크기가 큰 수를 말해보라고 했다. 상수는 수를 다른 사람과 다르게 거꾸로 읽는다. 예를들어, 734와 893을 칠판에 적었다면 상수는 이 수를 437과 398로 읽는다. 상수는 두 수중 큰 수인 437을 큰 수라고 말할 것이다. 두 수가 주어졌을 때, 상수의 대답을 출력하는 프로그램을 작성하시오. \n",
        "*   풀이 시간 총 3 mins\n",
        "\n"
      ],
      "metadata": {
        "id": "1w-RFrq2lgKx"
      }
    },
    {
      "cell_type": "code",
      "source": [
        "s = input()\n",
        "num1 = s.split()[0][::-1]\n",
        "num2 = s.split()[1][::-1]"
      ],
      "metadata": {
        "colab": {
          "base_uri": "https://localhost:8080/"
        },
        "id": "_P8vUSFHkCpT",
        "outputId": "c07450db-d31b-4730-8cfe-9a1a7dfd8999"
      },
      "execution_count": 52,
      "outputs": [
        {
          "name": "stdout",
          "output_type": "stream",
          "text": [
            "221 231\n"
          ]
        }
      ]
    },
    {
      "cell_type": "code",
      "source": [
        "if num1 > num2:\n",
        "  print(num1)\n",
        "else:\n",
        "  print(num2)"
      ],
      "metadata": {
        "colab": {
          "base_uri": "https://localhost:8080/"
        },
        "id": "LMD7TAE5mTEQ",
        "outputId": "61a3eea0-350f-43ff-c328-c992b3c715e2"
      },
      "execution_count": 53,
      "outputs": [
        {
          "output_type": "stream",
          "name": "stdout",
          "text": [
            "132\n"
          ]
        }
      ]
    },
    {
      "cell_type": "markdown",
      "source": [
        "# 다이얼 \n",
        "\n",
        "\n",
        "\n",
        "*   문제 설명 : 상근이의 할머니는 아래 그림과 같이 오래된 다이얼 전화기를 사용한다. 전화를 걸고 싶은 번호가 있다면, 숫자를 하나를 누른 다음에 금속 핀이 있는 곳 까지 시계방향으로 돌려야 한다. 숫자를 하나 누르면 다이얼이 처음 위치로 돌아가고, 다음 숫자를 누르려면 다이얼을 처음 위치에서 다시 돌려야 한다.\n",
        "\n",
        "숫자 1을 걸려면 총 2초가 필요하다. 1보다 큰 수를 거는데 걸리는 시간은 이보다 더 걸리며, 한 칸 옆에 있는 숫자를 걸기 위해선 1초씩 더 걸린다.\n",
        "\n",
        "상근이의 할머니는 전화 번호를 각 숫자에 해당하는 문자로 외운다. 즉, 어떤 단어를 걸 때, 각 알파벳에 해당하는 숫자를 걸면 된다. 예를 들어, UNUCIC는 868242와 같다.\n",
        "\n",
        "할머니가 외운 단어가 주어졌을 때, 이 전화를 걸기 위해서 필요한 최소 시간을 구하는 프로그램을 작성하시오.\n",
        "*   풀이 시간  : 풀이 성공 못함 \n",
        "\n"
      ],
      "metadata": {
        "id": "uJ1m1jZBm7pE"
      }
    },
    {
      "cell_type": "code",
      "source": [
        "# 다른 사람 코드 \n",
        "alphabet = input().lower()\n",
        "dial = [\"abc\",\"def\",\"ghi\",\"jkl\",\"mno\",\"pqrs\",\"tuv\",\"wxyz\"]\n",
        "time  = 0\n",
        "\n",
        "for i in range(len(alphabet)):\n",
        "  for j in dial:\n",
        "    if alphabet[i] in j:\n",
        "      time += dial.index(j) + 3\n",
        "\n",
        "print(time)\n"
      ],
      "metadata": {
        "colab": {
          "base_uri": "https://localhost:8080/"
        },
        "id": "9g7iyjWJy7Sl",
        "outputId": "b8e21204-2c31-41d8-eb1a-812308d3395c"
      },
      "execution_count": 50,
      "outputs": [
        {
          "output_type": "stream",
          "name": "stdout",
          "text": [
            "UNUCIC\n",
            "36\n"
          ]
        }
      ]
    },
    {
      "cell_type": "markdown",
      "source": [
        "# 크로아티아 알파벳 \n",
        "\n",
        "\n",
        "\n",
        "*   문제 설명 : 단어가 주어졌을 때, 몇 개의 크로아티아 알파벳으로 이루어져 있는지 출력한다. \n",
        "*   풀이 시간 총 30 mins \n",
        "\n"
      ],
      "metadata": {
        "id": "0lxnUXo7KoJJ"
      }
    },
    {
      "cell_type": "code",
      "source": [
        "# 런타임 오류나온 코드 \n",
        "word = input()\n",
        "\n",
        "cnt = 0\n",
        "for idx,w in enumerate(word):\n",
        "   if w in [\"c\",\"l\",\"n\",\"s\"]:\n",
        "     if word[idx+1] in [\"=\",\"-\",\"j\"]:\n",
        "        cnt -= 1 \n",
        "\n",
        "   if w == \"d\":\n",
        "     if word[idx+1:idx+3] == \"z=\":\n",
        "       cnt -=2\n",
        "     if word[idx+1] == \"=\":\n",
        "       cnt -= 1 \n",
        "   if w == \"z\":\n",
        "     if word[idx-1] != \"d\":\n",
        "       cnt -= 1 \n",
        "   cnt += 1 \n",
        "cnt"
      ],
      "metadata": {
        "colab": {
          "base_uri": "https://localhost:8080/"
        },
        "id": "Y2yrc1VhLFPd",
        "outputId": "07e9e1ba-9b7d-4f33-d008-4f706070b18e"
      },
      "execution_count": 34,
      "outputs": [
        {
          "name": "stdout",
          "output_type": "stream",
          "text": [
            "dz=ak\n"
          ]
        },
        {
          "output_type": "execute_result",
          "data": {
            "text/plain": [
              "3"
            ]
          },
          "metadata": {},
          "execution_count": 34
        }
      ]
    },
    {
      "cell_type": "code",
      "source": [
        "# 다른 사람 코드 참고 \n",
        "\n",
        "x = input()\n",
        "cro_al = [\"c-\",\"c=\",\"dz=\",\"d-\",\"lj\",\"nj\",\"s=\",\"z=\"]\n",
        "for i in cro_al:\n",
        "  x = x.replace(i, 'a') # 한글자 문자로 변환 \n",
        "\n",
        "print(len(x))"
      ],
      "metadata": {
        "colab": {
          "base_uri": "https://localhost:8080/"
        },
        "id": "OzXLfk0aOFHe",
        "outputId": "93606d91-a55b-4512-873d-b67dff12e75e"
      },
      "execution_count": 35,
      "outputs": [
        {
          "output_type": "stream",
          "name": "stdout",
          "text": [
            "dz=ak\n",
            "3\n"
          ]
        }
      ]
    },
    {
      "cell_type": "markdown",
      "source": [
        "# 그룹 단어 체커 \n",
        "\n",
        "\n",
        "\n",
        "*   문제 설명 : 그룹 단어란 단어에 존재하는 모든 문자에 대해서, 각 문자가 연속해서 나타나는 경우만을 말한다. 예를들면, ccazzzzzbb는 c,a,z,b가 모두 연속해서 나타나고 kin도 k,i,n이 연속해서 나타나기 때문에 그룹 단어이지만, aabbbccb는 b가 떨어져서 나타나기 때문에 그룹 단어가 아니다. \n",
        "*   풀이 시간 총 15 mins \n",
        "\n"
      ],
      "metadata": {
        "id": "IohFLknOTTO7"
      }
    },
    {
      "cell_type": "code",
      "source": [
        "n = int(input())\n",
        "\n",
        "w_cnt = 0\n",
        "for num in range(n):\n",
        "  w_list = []\n",
        "  cnt = 0\n",
        "  word = input()\n",
        "  for idx,w in enumerate(word):\n",
        "    if w not in w_list:\n",
        "      w_list.append(w)\n",
        "      cnt += 1\n",
        "    else:\n",
        "      if word[idx-1] != w:\n",
        "        break\n",
        "      else:\n",
        "        cnt += 1 \n",
        "  if cnt == len(word):\n",
        "    w_cnt += 1\n",
        "print(w_cnt)\n",
        "     \n",
        "    "
      ],
      "metadata": {
        "colab": {
          "base_uri": "https://localhost:8080/"
        },
        "id": "CX0fz8qZQnxA",
        "outputId": "dfdb72e6-9ae5-4406-fef6-5827f373cf60"
      },
      "execution_count": 47,
      "outputs": [
        {
          "output_type": "stream",
          "name": "stdout",
          "text": [
            "3\n",
            "a\n",
            "abab\n",
            "abcabcs\n",
            "1\n"
          ]
        }
      ]
    },
    {
      "cell_type": "code",
      "source": [
        "# 다른 사람 코드 참고 \n",
        "\n",
        "n = int(input())\n",
        "cnt = 0 \n",
        "for i in range(n):\n",
        "  word = input()\n",
        "  bl_ = True \n",
        "  for j in range(len(word)-1):\n",
        "    if word[j] != word[j+1]:\n",
        "      if word[j] in word[j+1:]:\n",
        "        bl_ = False \n",
        "        break \n",
        "\n",
        "  if bl_:\n",
        "    cnt += 1 \n",
        "\n",
        "print(cnt)\n"
      ],
      "metadata": {
        "colab": {
          "base_uri": "https://localhost:8080/"
        },
        "id": "IPErxW79WQqq",
        "outputId": "6bef6168-0c35-489e-d780-5f795dc0c330"
      },
      "execution_count": 48,
      "outputs": [
        {
          "output_type": "stream",
          "name": "stdout",
          "text": [
            "3\n",
            "aaa\n",
            "ababab\n",
            "ddsskjhej\n",
            "1\n"
          ]
        }
      ]
    },
    {
      "cell_type": "code",
      "source": [],
      "metadata": {
        "id": "gBfpXu3wZ3dc"
      },
      "execution_count": null,
      "outputs": []
    }
  ]
}