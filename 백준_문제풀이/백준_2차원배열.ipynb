{
  "nbformat": 4,
  "nbformat_minor": 0,
  "metadata": {
    "colab": {
      "provenance": []
    },
    "kernelspec": {
      "name": "python3",
      "display_name": "Python 3"
    },
    "language_info": {
      "name": "python"
    }
  },
  "cells": [
    {
      "cell_type": "markdown",
      "source": [
        "# 행렬 덧셈 \n",
        "\n",
        "\n",
        "\n",
        "*   문제 설명 : N * M 크기의 두 행렬 A와 B가 주어졌을 때, 두 행렬을 더하는 프로그램을 작성하시오.\n",
        "*   풀이 시간 총 15 mins\n",
        "\n"
      ],
      "metadata": {
        "id": "D_yWdIzA__Q4"
      }
    },
    {
      "cell_type": "code",
      "execution_count": null,
      "metadata": {
        "colab": {
          "base_uri": "https://localhost:8080/"
        },
        "id": "0fI1Ucwb_-1J",
        "outputId": "60aca935-32c5-4f73-db1e-93d0b0cf8aa0"
      },
      "outputs": [
        {
          "output_type": "stream",
          "name": "stdout",
          "text": [
            "3 3\n",
            "1 1 1\n",
            "2 2 2\n",
            "0 1 0\n",
            "3 3 3 \n",
            "4 4 4\n",
            "5 5 100\n",
            "4 4 4 \n",
            "6 6 6 \n",
            "5 6 100 \n"
          ]
        }
      ],
      "source": [
        "# 런타임 에러 \n",
        "N , M = map(int, input().split())\n",
        "A , B = [] , []\n",
        "for i in range(1, N+M+1):\n",
        "  if i <= N:\n",
        "    a = list(map(int, input().split()))\n",
        "    A.append(a)\n",
        "  else:\n",
        "    b = list(map(int, input().split()))\n",
        "    B.append(b)\n",
        "\n",
        "\n",
        "for a, b in zip(A,B):\n",
        "  ab = ''\n",
        "  for i in range(N):\n",
        "    ab += str(a[i]+b[i]) + ' '\n",
        "  print(ab)\n"
      ]
    },
    {
      "cell_type": "code",
      "source": [
        "N , M = map(int, input().split())\n",
        "A , B = [] , []\n",
        "for _ in range(N):\n",
        "  row = list(map(int, input().split()))\n",
        "  A.append(row)\n",
        "for _ in range(N):\n",
        "  row = list(map(int, input().split()))\n",
        "  B.append(row)\n",
        "\n",
        "for row in range(N):\n",
        "  for col in range(M):\n",
        "    print(A[row][col]+ B[row][col] , end = \" \")\n",
        "  print()\n",
        "  "
      ],
      "metadata": {
        "colab": {
          "base_uri": "https://localhost:8080/"
        },
        "id": "VM_lJhcqA9Us",
        "outputId": "21067ec0-d5fb-4ce4-ab32-45df7c3f3008"
      },
      "execution_count": null,
      "outputs": [
        {
          "output_type": "stream",
          "name": "stdout",
          "text": [
            "3 3\n",
            "1 1 1\n",
            "2 2 2\n",
            "0 1 0\n",
            "3 3 3\n",
            "4 4 4\n",
            "5 5 100\n",
            "4 4 4 6 6 6 5 6 100 "
          ]
        }
      ]
    },
    {
      "cell_type": "markdown",
      "source": [
        "# 최댓값 \n",
        "\n",
        "\n",
        "\n",
        "*   문제 설명 : <그림 1>과 같이 9×9 격자판에 쓰여진 81개의 자연수 또는 0이 주어질 때, 이들 중 최댓값을 찾고 그 최댓값이 몇 행 몇 열에 위치한 수인지 구하는 프로그램을 작성하시오. \n",
        "예를 들어, 다음과 같이 81개의 수가 주어지면 이들 중 최댓값은 90이고, 이 값은 5행 7열에 위치한다.\n",
        "*   풀이 시간 총 5 mins\n",
        "\n"
      ],
      "metadata": {
        "id": "3KV2KdUXERYf"
      }
    },
    {
      "cell_type": "code",
      "source": [
        "matrix = []\n",
        "for i in range(9):\n",
        "  num = list(map(int, input().split()))\n",
        "  matrix.append(num)"
      ],
      "metadata": {
        "id": "-jODR-mtDtDO",
        "colab": {
          "base_uri": "https://localhost:8080/"
        },
        "outputId": "0797cee5-39fb-4168-8b1b-2a384b762170"
      },
      "execution_count": 13,
      "outputs": [
        {
          "name": "stdout",
          "output_type": "stream",
          "text": [
            "3 23 85 34 17 74 25 52 65\n",
            "10 7 39 42 88 52 14 72 63\n",
            "87 42 18 78 53 45 18 84 53\n",
            "34 28 64 85 12 16 75 36 55\n",
            "21 77 45 35 28 75 90 76 1\n",
            "25 87 65 15 28 11 37 28 74\n",
            "65 27 75 41 7 89 78 64 39\n",
            "47 47 70 45 23 65 3 41 44\n",
            "87 13 82 38 31 12 29 29 80\n"
          ]
        }
      ]
    },
    {
      "cell_type": "code",
      "source": [
        "max = -999\n",
        "for row in range(9):\n",
        "  for col in range(9):\n",
        "    if matrix[row][col] > max:\n",
        "      max = matrix[row][col]\n",
        "      max_i = [row+1, col+1]\n",
        "print(max)\n",
        "print(max_i[0], max_i[1])"
      ],
      "metadata": {
        "colab": {
          "base_uri": "https://localhost:8080/"
        },
        "id": "4gMRH4o2FAon",
        "outputId": "1939ee8c-de9d-4040-a9b2-9e3d8af32c00"
      },
      "execution_count": 20,
      "outputs": [
        {
          "output_type": "stream",
          "name": "stdout",
          "text": [
            "90\n",
            "5 7\n"
          ]
        }
      ]
    },
    {
      "cell_type": "markdown",
      "source": [
        "# 색종이 \n",
        "\n",
        "\n",
        "\n",
        "*   문제 설명 : 가로, 세로의 크기가 각각 100인 정사각형 모양의 흰색 도화지가 있다. 이 도화지 위에 가로, 세로의 크기가 각각 10인 정사각형 모양의 검은색 색종이를 색종이의 변과 도화지의 변이 평행하도록 붙인다. 이러한 방식으로 색종이를 한장 또는 여러장 붙인 후 색종이가 붙은 검은 영역의 넓이를 구하는 프로그램을 작성하시오. 예를 들어 흰색 도화지 위에 세 장의 검은색 색종이를 그림과 같은 모양으로 붙였다면 검은색 영역의 넓이는 260이 된다. \n",
        "*   풀이 시간 총 15 mins\n",
        "\n"
      ],
      "metadata": {
        "id": "nKZ2MiUGGfTD"
      }
    },
    {
      "cell_type": "code",
      "source": [
        "c_paper = [ [-1 for _ in range(101)] for _ in range(101)]\n",
        "\n",
        "N = int(input())\n",
        "\n",
        "result = 0\n",
        "for i in range(N):\n",
        "  row, col = map(int, input().split())\n",
        "  for r in range(row, row+10):\n",
        "    for c in range(col, col+10):\n",
        "      if c_paper[r][c] == -1:\n",
        "        c_paper[r][c] = 1\n",
        "        result += 1\n",
        "      \n",
        "print(result)\n"
      ],
      "metadata": {
        "colab": {
          "base_uri": "https://localhost:8080/"
        },
        "id": "BzPx8A-NI2mn",
        "outputId": "b9ea305f-1e92-4016-da6d-ff6b64a24e76"
      },
      "execution_count": 43,
      "outputs": [
        {
          "output_type": "stream",
          "name": "stdout",
          "text": [
            "3\n",
            "3 7\n",
            "15 7\n",
            "5 2\n",
            "260\n"
          ]
        }
      ]
    }
  ]
}