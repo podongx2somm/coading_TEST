{
  "nbformat": 4,
  "nbformat_minor": 0,
  "metadata": {
    "colab": {
      "provenance": [],
      "authorship_tag": "ABX9TyOlNa5dRXeUKMzjgkRuxJk+",
      "include_colab_link": true
    },
    "kernelspec": {
      "name": "python3",
      "display_name": "Python 3"
    },
    "language_info": {
      "name": "python"
    }
  },
  "cells": [
    {
      "cell_type": "markdown",
      "metadata": {
        "id": "view-in-github",
        "colab_type": "text"
      },
      "source": [
        "<a href=\"https://colab.research.google.com/github/podongx2somm/coading_TEST/blob/main/%ED%94%84%EB%A1%9C%EA%B7%B8%EB%9E%98%EB%A8%B8%EC%8A%A4_%EB%AC%B8%EC%A0%9C%ED%92%80%EC%9D%B4/LEVEL2/0712.ipynb\" target=\"_parent\"><img src=\"https://colab.research.google.com/assets/colab-badge.svg\" alt=\"Open In Colab\"/></a>"
      ]
    },
    {
      "cell_type": "markdown",
      "source": [
        "# 요격 시스템\n",
        "\n",
        "* 문제 설명 : A나라가 B나라를 침공하였다. B나라의 대부분의 전략 자원은 아이기스 군사 기지에 집중되어 있기 때문에 A나라는 B나라의 아이기스 군사 기지에 융단폭격을 가했다. A나라의 공격에 대항하여 아이기스 군사 기지에서는 무수히 쏟아지는 폭격 미사일들을 요격하려고 한다. 이곳에는 백발백중을 자랑하는 요격 시스템이 있지만 운용 비용이 상당하기 때문에 미사일을 최소로 사용해서 모든 폭격 미사일을 요격하려고 한다. A나라와 B나라가 싸우고 있는 이 세계는 2차원 공간으로 이루어져 있다. A나라가 발사한 폭격 미사일은 X축에 평행한 직선 형태의 모양이며 개구간을 나타내는 정수 쌍 (s,e)형태로 표현된다. B나라는 특정 X좌표에서 Y축에 수평이 되도록 미사일을 발사하며, 발사된 미사일은 해당 X좌표에 걸쳐있는 모든 폭격 미사일을 관통하여 한번에 요격할 수 있다. 단, 개구간(s,e)로 표현되는 폭격 미사일은 s와 e에서 발사하는 요격 미사일로는 요격할 수 없다. 요격 미사일은 실수인 x좌표에서도 발사할 수 있다. 각 폭격 미사일의 x좌표 범위 목록 targets이 매개변수로 주어질 때, 모든 폭격 미사일을 요격하기 위해 필요한 요격 미사일 수의 최솟값을 return하도록 solution 함수를 완성해주세요.\n"
      ],
      "metadata": {
        "id": "WzTE9PjrjIO8"
      }
    },
    {
      "cell_type": "code",
      "execution_count": null,
      "metadata": {
        "id": "oLhkTohrjGVg"
      },
      "outputs": [],
      "source": [
        "targets = [[4,5],[4,8],[10,14],[11,13],[5,12],[3,7],[1,4]]\n",
        "result = 0"
      ]
    },
    {
      "cell_type": "markdown",
      "source": [],
      "metadata": {
        "id": "Iq66IqvkpLip"
      }
    },
    {
      "cell_type": "code",
      "source": [
        "def solution(targets):\n",
        "    answer = 0\n",
        "    targets.sort(key = lambda x: [x[1], x[0]])\n",
        "\n",
        "    s = e = 0\n",
        "    for target in targets:\n",
        "        if target[0] >= e:\n",
        "            answer += 1\n",
        "            e = target[1]\n",
        "\n",
        "    return answer"
      ],
      "metadata": {
        "id": "E-jl7tRNkMPm"
      },
      "execution_count": null,
      "outputs": []
    },
    {
      "cell_type": "code",
      "source": [
        "solution(targets)"
      ],
      "metadata": {
        "colab": {
          "base_uri": "https://localhost:8080/"
        },
        "id": "UiO89ZdZmt3V",
        "outputId": "cda6c710-7887-43f3-9ec7-4a718bbd481f"
      },
      "execution_count": null,
      "outputs": [
        {
          "output_type": "execute_result",
          "data": {
            "text/plain": [
              "3"
            ]
          },
          "metadata": {},
          "execution_count": 18
        }
      ]
    },
    {
      "cell_type": "markdown",
      "source": [
        "# 예상 대진표\n",
        "\n",
        "* 문제 설명 : 이 대회는 N명이 참가하고, 토너먼트 형식으로 진행된다. N명의 참가자는 각각 1번부터 N번을 차례대로 배정받는다. 그리고, 1번 2번, 3번 4번, N-1번, N번 참가자끼리 게임을 진행한다. 각 게임에서 이긴 사람은 다음 라운드에 진출할 수 있다. 이때, 다음 라운드에 진출할 참가자의 번호는 다시 1번부터 N/2번을 차례대로 배정받는다. 1번2번끼리 겨루는 게임에서 2번이 승리하면, 1번을 받고, 3번 4번을 겨루는 게임에서 3번이 승리하면 2번을 부여받는다. 게임은 최종 한명이 남을때까지 진행된다. 이때, 처음 라운드에서 A번을 가진 참가자는 경쟁자로 생각하는 B번 참가자와 몇 번째 라운드에서 만나는지 궁금해졌습니다. 게임 참가자 수 N, 참가자 번호 A, 경쟁자 번호 B가 함수 solution의 매개변수로 주어질 때, 처음 라운드에서 A번을 가진 참가자는 경쟁자로 생각하는 B번 참가자와 몇 번째 라운드에서 만나는지 return 하는 solution 함수를 완성해 주세요. 단, A번 참가자와 B번 참가자는 서로 붙게 되기 전까지 항상 이긴다고 가정합니다."
      ],
      "metadata": {
        "id": "XtPf_mT8pGoj"
      }
    },
    {
      "cell_type": "code",
      "source": [
        "N, A, B = 8, 4, 7"
      ],
      "metadata": {
        "id": "D2yHzTMvos2U"
      },
      "execution_count": null,
      "outputs": []
    },
    {
      "cell_type": "code",
      "source": [
        "# def solution(N,A,B):\n",
        "#     result = 1\n",
        "\n",
        "#     while N >= 1:\n",
        "#         N = N/2\n",
        "#         result += 1\n",
        "\n",
        "#         if A % 2 == 0:\n",
        "#             A = A - (A / 2)\n",
        "#         else:\n",
        "#             A = A - (A//2)\n",
        "\n",
        "#         if B % 2 == 0:\n",
        "#             B = B - (B / 2)\n",
        "#         else:\n",
        "#             B = B - (B//2)\n",
        "\n",
        "#         if (A % 2 == 0 and B % 2 != 0 and abs(A-B)==1) or (A % 2 != 0 and B % 2 == 0 and abs(A-B)==1):\n",
        "#             break\n",
        "\n",
        "#     return result"
      ],
      "metadata": {
        "id": "t4Y0jSyKpxIt"
      },
      "execution_count": null,
      "outputs": []
    },
    {
      "cell_type": "code",
      "source": [
        "def solution(n, a, b):\n",
        "    answer = 0\n",
        "    while a != b:\n",
        "        answer += 1\n",
        "        a, b = (a + 1) // 2, (b + 1) // 2\n",
        "    return answer"
      ],
      "metadata": {
        "id": "vKjP1QnErGBq"
      },
      "execution_count": null,
      "outputs": []
    },
    {
      "cell_type": "code",
      "source": [],
      "metadata": {
        "id": "5LhWtwGSrsBx"
      },
      "execution_count": null,
      "outputs": []
    }
  ]
}