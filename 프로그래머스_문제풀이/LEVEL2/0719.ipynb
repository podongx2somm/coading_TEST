{
  "nbformat": 4,
  "nbformat_minor": 0,
  "metadata": {
    "colab": {
      "provenance": [],
      "authorship_tag": "ABX9TyPL8q4w9fQLWkbJvg0YOYGi",
      "include_colab_link": true
    },
    "kernelspec": {
      "name": "python3",
      "display_name": "Python 3"
    },
    "language_info": {
      "name": "python"
    }
  },
  "cells": [
    {
      "cell_type": "markdown",
      "metadata": {
        "id": "view-in-github",
        "colab_type": "text"
      },
      "source": [
        "<a href=\"https://colab.research.google.com/github/podongx2somm/coading_TEST/blob/main/%ED%94%84%EB%A1%9C%EA%B7%B8%EB%9E%98%EB%A8%B8%EC%8A%A4_%EB%AC%B8%EC%A0%9C%ED%92%80%EC%9D%B4/LEVEL2/0719.ipynb\" target=\"_parent\"><img src=\"https://colab.research.google.com/assets/colab-badge.svg\" alt=\"Open In Colab\"/></a>"
      ]
    },
    {
      "cell_type": "markdown",
      "source": [
        "# 연속 부분 수열 합의 개수\n",
        "\n",
        "* 문제 설명 : 철호는 수열을 가지고 놀기 좋아합니다. 어느 날 철호는 어떤 자연수로 이루어진 원형 수열의 연속하는 부분 수열의 합으로 만들 수 있는 수가 모두 몇 가지인지 알아보고 싶어졌습니다. 원형 수열이란 일반적인 수열에서 처음과 끝이 연결된 형태의 수열을 말합니다. 예를들어 수열[7,9,1,1,4]로 원형 수열을 만들면 다음과 같습니다."
      ],
      "metadata": {
        "id": "owWDyt_KD0dO"
      }
    },
    {
      "cell_type": "code",
      "source": [
        "elements = [7,9,1,1,4]\n",
        "results = set()\n",
        "\n",
        "elementLen = len(elements)\n",
        "# [7, 9, 1, 1, 4, 7, 9, 1, 1, 4]\n",
        "elements = elements * 2\n",
        "\n",
        "for i in range(elementLen):\n",
        "    for j in range(elementLen):\n",
        "        # print(sum(elements[j:j+i+1]))\n",
        "        results.add(sum(elements[j:j+i+1]))\n",
        "\n",
        "results"
      ],
      "metadata": {
        "colab": {
          "base_uri": "https://localhost:8080/"
        },
        "id": "jIBHfH4OLPQG",
        "outputId": "eb35cbc4-34f4-4b40-e59c-2ed5b7af7a9e"
      },
      "execution_count": 17,
      "outputs": [
        {
          "output_type": "execute_result",
          "data": {
            "text/plain": [
              "{1, 2, 4, 5, 6, 7, 9, 10, 11, 12, 13, 15, 16, 17, 18, 20, 21, 22}"
            ]
          },
          "metadata": {},
          "execution_count": 17
        }
      ]
    },
    {
      "cell_type": "markdown",
      "source": [
        "# 할인행사\n",
        "\n",
        "* 문제 설명 : XYZ마트는 일정한 금액을 지불하면 10일동안 회원 자격을 부여합니다. XYZ마트에서는 회원을 대상으로 매일 한 가지 제품을 할인하는 행사를 합니다. 할인하는 제품은 하루에 하나씩만 구매할 수 있습니다. 알뜰한 정현이는 자신이 원하는 제품과 수량이 할인하는 날짜와 10일연속으로 일치할 경우에 맞춰서 회원가입을 하려 합니다. 예를 들어, 정현이가 원하는 제품이 바나나 3개, 사과 2개, 쌀 2개, 돼지고기 2개, 냄비 1개이며,XYZ 마트에서 15일간 회원을 대상으로 할인하는 제품이 날짜 순서대로 치킨, 사과, 사과, 바나나, 쌀, 사과, 돼지고기, 바나나, 돼지고기, 쌀, 냄비 , 바나나, 사과, 바나나인 경우, 첫째 날 부터 열흘간 냄비가 할인하지 않기 때문에 첫째날에 회원가입 하지 않고 둘째부터 열흘간 바나나를 원하는 만큼 할인 구매할 수 없기 때문에 둘째날에도 회원가입을 하지 않습니다. 셋째, 넷째, 다섯째날부터 각각 10일 원하는 제품과 수량이 일치하기 때문에 셋중 하루에 회원가입."
      ],
      "metadata": {
        "id": "PHz3NjNpNIbp"
      }
    },
    {
      "cell_type": "code",
      "source": [
        "want = [\"apple\"]\n",
        "number = [10]\n",
        "discount = [\"banana\", \"banana\", \"banana\", \"banana\", \"banana\", \"banana\", \"banana\", \"banana\", \"banana\", \"banana\"]"
      ],
      "metadata": {
        "id": "pORdRmqsLsC9"
      },
      "execution_count": 31,
      "outputs": []
    },
    {
      "cell_type": "code",
      "source": [
        "from collections import Counter\n",
        "\n",
        "def solution(want, number, discount):\n",
        "    answer = 0\n",
        "    check = {}\n",
        "    for w, n in zip(want, number):\n",
        "        check[w] = n\n",
        "\n",
        "    for i in range(len(discount)-9):\n",
        "        c = Counter(discount[i:i+10])\n",
        "        if c == check:\n",
        "            answer += 1\n",
        "\n",
        "    return answer"
      ],
      "metadata": {
        "id": "_ogKu5DPSCRy"
      },
      "execution_count": 32,
      "outputs": []
    },
    {
      "cell_type": "code",
      "source": [
        "solution(want, number, discount)"
      ],
      "metadata": {
        "colab": {
          "base_uri": "https://localhost:8080/"
        },
        "id": "ss2UviuDS-bG",
        "outputId": "4e894ed8-2b1f-4b0e-a3ef-f5cf15142baf"
      },
      "execution_count": 33,
      "outputs": [
        {
          "output_type": "execute_result",
          "data": {
            "text/plain": [
              "0"
            ]
          },
          "metadata": {},
          "execution_count": 33
        }
      ]
    },
    {
      "cell_type": "code",
      "source": [],
      "metadata": {
        "id": "e6ZLUYbfTBsw"
      },
      "execution_count": null,
      "outputs": []
    }
  ]
}