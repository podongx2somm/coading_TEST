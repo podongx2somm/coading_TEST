{
  "nbformat": 4,
  "nbformat_minor": 0,
  "metadata": {
    "colab": {
      "provenance": [],
      "authorship_tag": "ABX9TyMkUJUFm93oqFHRk6oDemh5",
      "include_colab_link": true
    },
    "kernelspec": {
      "name": "python3",
      "display_name": "Python 3"
    },
    "language_info": {
      "name": "python"
    }
  },
  "cells": [
    {
      "cell_type": "markdown",
      "metadata": {
        "id": "view-in-github",
        "colab_type": "text"
      },
      "source": [
        "<a href=\"https://colab.research.google.com/github/podongx2somm/coading_TEST/blob/main/%ED%94%84%EB%A1%9C%EA%B7%B8%EB%9E%98%EB%A8%B8%EC%8A%A4_%EB%AC%B8%EC%A0%9C%ED%92%80%EC%9D%B4/LEVEL2/0713.ipynb\" target=\"_parent\"><img src=\"https://colab.research.google.com/assets/colab-badge.svg\" alt=\"Open In Colab\"/></a>"
      ]
    },
    {
      "cell_type": "markdown",
      "source": [
        "# 점프와 순간이동\n",
        "\n",
        "* 문제 설명 : OO 연구소는 한 번에 K 칸을 앞으로 점프하거나, (현재까지 온 거리) x 2 에 해당하는 위치로 순간이동을 할 수 있는 특수한 기능을 가진 아이언 슈트를 개발하여 판매하고 있습니다. 이 아이언 슈트는 건전지로 작동되는데, 순간이동을 하면 건전지 사용량이 줄지 않지만, 앞으로 K 칸을 점프하면 K 만큼의 건전지 사용량이 듭니다. 그러므로 아이언 슈트를 착용하고 이동할 때는 순간 이동을 하는 것이 더 효율적입니다. 아이언 슈트 구매자는 아이언 슈트를 착용하고 거리가 N 만큼 떨어져 있는 장소로 가려고 합니다. 단, 건전지 사용량을 줄이기 위해 점프로 이동하는 것은 최소로 하려고 합니다. 아이언 슈트 구매자가 이동하려는 거리 N이 주어졌을 때, 사용해야 하는 건전지 사용량의 최솟값을 return하는 solution 함수를 만들어 주세요."
      ],
      "metadata": {
        "id": "DGZTlStJsYUl"
      }
    },
    {
      "cell_type": "code",
      "source": [
        "# [코드오류]\n",
        "def solution(N):\n",
        "    result = 0\n",
        "    while N > 0:\n",
        "        if (N / 2) > (N // 2) or (N //2) % 2 != 0:\n",
        "            N = (N // 2 )-1\n",
        "            result += 1\n",
        "        else:\n",
        "            N = N // 2\n",
        "\n",
        "        if N ==1 :\n",
        "            result += 1\n",
        "            break\n",
        "\n",
        "    return result"
      ],
      "metadata": {
        "colab": {
          "base_uri": "https://localhost:8080/"
        },
        "id": "So1z2QbitJQP",
        "outputId": "0bb51cc0-cd65-4f34-c55b-0d70ff7cd5c5"
      },
      "execution_count": null,
      "outputs": [
        {
          "output_type": "execute_result",
          "data": {
            "text/plain": [
              "2"
            ]
          },
          "metadata": {},
          "execution_count": 37
        }
      ]
    },
    {
      "cell_type": "code",
      "source": [
        "# 2진수 변환 함수 사용 [시간초과]\n",
        "def solution(N):\n",
        "    result = 0\n",
        "    binary = format(N, 'b')\n",
        "    for b in binary:\n",
        "        if int(b) == 1:\n",
        "            result += 1\n",
        "\n",
        "    return result"
      ],
      "metadata": {
        "colab": {
          "base_uri": "https://localhost:8080/",
          "height": 35
        },
        "id": "rUsDT49dtLkG",
        "outputId": "ad93e54b-dc95-4702-81b6-ccb67f55b3ad"
      },
      "execution_count": null,
      "outputs": [
        {
          "output_type": "execute_result",
          "data": {
            "text/plain": [
              "'1001110001000'"
            ],
            "application/vnd.google.colaboratory.intrinsic+json": {
              "type": "string"
            }
          },
          "metadata": {},
          "execution_count": 42
        }
      ]
    },
    {
      "cell_type": "code",
      "source": [
        "# 성공한 코드\n",
        "def solution(N):\n",
        "    binary = format(N, 'b')\n",
        "\n",
        "    return binary.count('1')"
      ],
      "metadata": {
        "id": "cdVA47rjtPU6"
      },
      "execution_count": null,
      "outputs": []
    },
    {
      "cell_type": "code",
      "source": [
        "# 다른 사람 코드\n",
        "def solution(n):\n",
        "    return bin(n).count('1')"
      ],
      "metadata": {
        "id": "R1ZepuGctVNa"
      },
      "execution_count": null,
      "outputs": []
    },
    {
      "cell_type": "markdown",
      "source": [
        "# 멀리 뛰기\n",
        "\n",
        "* 문제 설명 : 효진이는 멀리 뛰기를 연습하고 있습니다. 효진이는 한번에 1칸, 또는 2칸을 뛸 수 있습니다. 칸이 총 4개 있을 때, 효진이는\n",
        "(1칸, 1칸, 1칸, 1칸)\n",
        "(1칸, 2칸, 1칸)\n",
        "(1칸, 1칸, 2칸)\n",
        "(2칸, 1칸, 1칸)\n",
        "(2칸, 2칸)\n",
        "의 5가지 방법으로 맨 끝 칸에 도달할 수 있습니다. 멀리뛰기에 사용될 칸의 수 n이 주어질 때, 효진이가 끝에 도달하는 방법이 몇 가지인지 알아내, 여기에 1234567를 나눈 나머지를 리턴하는 함수, solution을 완성하세요. 예를 들어 4가 입력된다면, 5를 return하면 됩니다."
      ],
      "metadata": {
        "id": "Fk0iL80yxDuP"
      }
    },
    {
      "cell_type": "code",
      "source": [
        "n = 4\n",
        "result = 0"
      ],
      "metadata": {
        "id": "U7a9OeM2wjD5"
      },
      "execution_count": null,
      "outputs": []
    },
    {
      "cell_type": "code",
      "source": [
        "def solution(n):\n",
        "    if n<3:\n",
        "        return n\n",
        "    d=[0]*(n+1)\n",
        "    d[1]=1\n",
        "    d[2]=2\n",
        "    for i in range(3,n+1):\n",
        "        d[i]=d[i-1]+d[i-2]\n",
        "    return d[n]%1234567"
      ],
      "metadata": {
        "colab": {
          "base_uri": "https://localhost:8080/"
        },
        "id": "ogNzWRuDxQQY",
        "outputId": "e6d77581-890d-4435-db8d-c9cf7c119c16"
      },
      "execution_count": null,
      "outputs": [
        {
          "output_type": "execute_result",
          "data": {
            "text/plain": [
              "2"
            ]
          },
          "metadata": {},
          "execution_count": 52
        }
      ]
    },
    {
      "cell_type": "code",
      "source": [],
      "metadata": {
        "id": "KgUEfRHuym5c"
      },
      "execution_count": null,
      "outputs": []
    }
  ]
}