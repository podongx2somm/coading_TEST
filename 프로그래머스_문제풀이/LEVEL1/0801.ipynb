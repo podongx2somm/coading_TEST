{
  "nbformat": 4,
  "nbformat_minor": 0,
  "metadata": {
    "colab": {
      "provenance": [],
      "authorship_tag": "ABX9TyNRQo+eSXETvaizn75llw69",
      "include_colab_link": true
    },
    "kernelspec": {
      "name": "python3",
      "display_name": "Python 3"
    },
    "language_info": {
      "name": "python"
    }
  },
  "cells": [
    {
      "cell_type": "markdown",
      "metadata": {
        "id": "view-in-github",
        "colab_type": "text"
      },
      "source": [
        "<a href=\"https://colab.research.google.com/github/podongx2somm/coading_TEST/blob/main/%ED%94%84%EB%A1%9C%EA%B7%B8%EB%9E%98%EB%A8%B8%EC%8A%A4_%EB%AC%B8%EC%A0%9C%ED%92%80%EC%9D%B4/LEVEL1/0801.ipynb\" target=\"_parent\"><img src=\"https://colab.research.google.com/assets/colab-badge.svg\" alt=\"Open In Colab\"/></a>"
      ]
    },
    {
      "cell_type": "markdown",
      "source": [
        "# 달리기 경주\n",
        "\n",
        "* 문제 설명 : 얀에서는 매년 달리기 경주가 열립니다. 해설진들은 선수들이 자기 바로 앞의 선수를 추월할 때 추월한 선수의 이름을 부릅니다. 예를들어 1등부터 3등까지 \"mumu\", \"soe\", \"poe\"선수들이 순서대로 달리고 있을 때, 해설진이 \"seo\"선수를 불렀다면 2등인 \"soe\"선수가 1등인 \"mumu\"선수를 추월했다는 것입니다. 즉 \"soe\"선수가 1등, \"mumu\"선수가 2등으로 바뀝니다.\n",
        "\n",
        "* 문제 풀이 시간 : 5:54~"
      ],
      "metadata": {
        "id": "IdW8AMnZTMav"
      }
    },
    {
      "cell_type": "code",
      "source": [
        "# 시간초과\n",
        "players = [\"mumu\", \"soe\", \"poe\", \"kai\", \"mine\"]\n",
        "callings = [\"kai\", \"kai\", \"mine\", \"mine\"]\n",
        "for cal in callings:\n",
        "  if cal in players:\n",
        "    key = players.index(cal)\n",
        "    players[key-1], players[key] = players[key], players[key-1]\n",
        "players"
      ],
      "metadata": {
        "colab": {
          "base_uri": "https://localhost:8080/"
        },
        "id": "DTPLlFaNTeM3",
        "outputId": "a78f24d1-a6b4-4860-e595-96ff424fe247"
      },
      "execution_count": 8,
      "outputs": [
        {
          "output_type": "execute_result",
          "data": {
            "text/plain": [
              "['mumu', 'kai', 'mine', 'soe', 'poe']"
            ]
          },
          "metadata": {},
          "execution_count": 8
        }
      ]
    },
    {
      "cell_type": "code",
      "source": [
        "# 딕셔너리를 통해 idx 찾는 시간 단축하기\n",
        "result = {player: i for i, player in enumerate(players)}\n",
        "result"
      ],
      "metadata": {
        "colab": {
          "base_uri": "https://localhost:8080/"
        },
        "id": "C7fV_sG7ULk0",
        "outputId": "b21a7385-03e0-44d4-85e1-92c9bfae84d7"
      },
      "execution_count": 9,
      "outputs": [
        {
          "output_type": "execute_result",
          "data": {
            "text/plain": [
              "{'mumu': 0, 'kai': 1, 'mine': 2, 'soe': 3, 'poe': 4}"
            ]
          },
          "metadata": {},
          "execution_count": 9
        }
      ]
    },
    {
      "cell_type": "code",
      "source": [
        "def solution(players, callings):\n",
        "    pla_dic = {key: i for i, key in enumerate(players)}\n",
        "\n",
        "    for p in callings:\n",
        "        c = pla_dic[p]\n",
        "        pla_dic[p] -= 1\n",
        "        pla_dic[players[c-1]] += 1\n",
        "        players[c-1], players[c] = players[c], players[c-1]\n",
        "\n",
        "    return players"
      ],
      "metadata": {
        "id": "p_Rr9mIJXHY7"
      },
      "execution_count": 12,
      "outputs": []
    },
    {
      "cell_type": "markdown",
      "source": [
        "# 추억 점수\n",
        "\n",
        "* 문제 설명 : 사진들을 보며 추억에 젖어 있던 루는 사진별로 추억 점수를 매길려고 합니다. 사진 속에 나오는 인물의 그리움 점수를 모두 합산한 값이 해당 사진의 추억 점수가 됩니다. 예를 들어 사진 속 인물의 이름이 [\"may\", \"kein\", \"kain\"]이고 각 인물의 그리움 점수가 [5점, 10점, 1점]일 때 해당 사진의 추억 점수는 16(5+10+1)점이 됩니다. 다른 사진 속 인물의 이름이 [\"kail\", \"mari\", \"don\", \"tony\"]이고 [\"kali\", \"mari\", \"don\"]의 그리움 점수가 각각 11, 1, 55점이고, tony는 그리움 점수가 없을 때, 이사진의 추억 점수는 3명의 그리움 점수를 합한 67(11 + 1+ 55) 점 입니다."
      ],
      "metadata": {
        "id": "L8ZVXuH-XyNS"
      }
    },
    {
      "cell_type": "code",
      "source": [
        "name = [\"kali\", \"mari\", \"don\"]\n",
        "yearning = [11, 1, 55]\n",
        "photos = {person : score for score, person in zip(yearning, name)}\n",
        "photos"
      ],
      "metadata": {
        "colab": {
          "base_uri": "https://localhost:8080/"
        },
        "id": "g35QnPPNXL4F",
        "outputId": "4c2784f2-9b0f-4c18-c4fc-d76d7c4763b9"
      },
      "execution_count": 18,
      "outputs": [
        {
          "output_type": "execute_result",
          "data": {
            "text/plain": [
              "{'kali': 11, 'mari': 1, 'don': 55}"
            ]
          },
          "metadata": {},
          "execution_count": 18
        }
      ]
    },
    {
      "cell_type": "code",
      "source": [
        "result = []\n",
        "photo = [[\"kali\", \"mari\", \"don\"], [\"pony\", \"tom\", \"teddy\"], [\"con\", \"mona\", \"don\"]]\n",
        "for i in photo:\n",
        "  sum = 0\n",
        "  for p in i:\n",
        "    if p in name:\n",
        "      sum += photos[p]\n",
        "  result.append(sum)\n",
        "\n",
        "result"
      ],
      "metadata": {
        "colab": {
          "base_uri": "https://localhost:8080/"
        },
        "id": "S9oVsFJ-Yy0a",
        "outputId": "62165bce-af0a-4d39-864b-02c04e645560"
      },
      "execution_count": 19,
      "outputs": [
        {
          "output_type": "execute_result",
          "data": {
            "text/plain": [
              "[67, 0, 55]"
            ]
          },
          "metadata": {},
          "execution_count": 19
        }
      ]
    },
    {
      "cell_type": "code",
      "source": [],
      "metadata": {
        "id": "QIrsH4G8ZGYP"
      },
      "execution_count": null,
      "outputs": []
    }
  ]
}